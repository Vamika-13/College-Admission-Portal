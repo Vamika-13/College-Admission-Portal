{
 "cells": [
  {
   "cell_type": "code",
   "execution_count": 11,
   "id": "897ceea5-a638-4369-b2a8-bad9c3af06f7",
   "metadata": {},
   "outputs": [
    {
     "name": "stdout",
     "output_type": "stream",
     "text": [
      "Welcome to Humber College\n"
     ]
    },
    {
     "name": "stdin",
     "output_type": "stream",
     "text": [
      "Please enter your Password :  Devdesai@200\n"
     ]
    },
    {
     "name": "stdout",
     "output_type": "stream",
     "text": [
      "Password Accepted !. Welcome !\n"
     ]
    }
   ],
   "source": [
    "def system_login():\n",
    "    # This function handles login process and gives 3 attempts to enter correct password\n",
    "    print(\"Welcome to Humber College\")\n",
    "    attempts = 3\n",
    "    while attempts > 0:\n",
    "        password = input(\"Please enter your Password : \")\n",
    "        if valid_password(password):\n",
    "            print(\"Password Accepted !. Welcome !\")\n",
    "            break\n",
    "        else:\n",
    "            attempts -= 1\n",
    "            if attempts > 0:\n",
    "                print(\"Incorrect password and you have\", attempts, \"attempts left\")\n",
    "            else:\n",
    "                print(\"Incorrect Password and No More Attempts Left\")\n",
    "                exit()\n",
    "\n",
    "def valid_password(password):\n",
    "    # Function to validate the password based on given criteria that is atleast 10 characters, atleast 1 uppercase letter, 2 or 3 digits, \n",
    "    # and 1 special character\n",
    "    if len(password) < 10:\n",
    "        return False\n",
    "    \n",
    "    upper_case = any(char.isupper() for char in password)\n",
    "    if not upper_case:\n",
    "        return False\n",
    "\n",
    "    num_count = len([char for char in password if char.isdigit()])\n",
    "    if num_count < 2 or num_count > 3:\n",
    "        return False\n",
    "\n",
    "    special_char = any(not char.isalnum() for char in password)\n",
    "    if not special_char:\n",
    "        return False\n",
    "\n",
    "    return True\n",
    "system_login()"
   ]
  },
  {
   "cell_type": "code",
   "execution_count": 5,
   "id": "3afdd089-1155-42d1-884f-e71e8ab274ac",
   "metadata": {},
   "outputs": [
    {
     "name": "stdin",
     "output_type": "stream",
     "text": [
      "Enter the number of students (between 1 and 50):  1\n",
      "Enter 1st student name:  vamika\n"
     ]
    },
    {
     "name": "stdout",
     "output_type": "stream",
     "text": [
      "Entering grades for: vamika\n"
     ]
    },
    {
     "name": "stdin",
     "output_type": "stream",
     "text": [
      "Enter the marks for Math:  50\n",
      "Enter the marks for Science:  80\n",
      "Enter the marks for Language:  74\n",
      "Enter the marks for Drama:  75\n",
      "Enter the marks for Music:  94\n",
      "Enter the marks for Biology:  80\n"
     ]
    },
    {
     "name": "stdout",
     "output_type": "stream",
     "text": [
      "Student GPAs\n",
      "vamika : 74.04545454545455\n"
     ]
    }
   ],
   "source": [
    "def student_names_and_grades():\n",
    "    # Function to input the number of students, their names, and grades for various subjects\n",
    "    max_attempts = 3\n",
    "    attempts = 0\n",
    "    global student_count\n",
    "    student_count = 0\n",
    "\n",
    "    while attempts < max_attempts:\n",
    "        student_count = input(\"Enter the number of students (between 1 and 50): \")\n",
    "\n",
    "        if student_count.isdigit():\n",
    "            student_count = int(student_count)\n",
    "            if 1 <= student_count <= 50:\n",
    "                break\n",
    "            else:\n",
    "                attempts += 1\n",
    "                if attempts < max_attempts:\n",
    "                    print(\"Invalid input! Please enter a valid input. Number of attempts left:\", max_attempts - attempts)\n",
    "                else:\n",
    "                    print(\"Maximum attempts reached, the program will now stop. Please start again.\")\n",
    "                    return []\n",
    "        else:\n",
    "            attempts += 1\n",
    "            if attempts < max_attempts:\n",
    "                print(\"Invalid input! Please enter a valid input. Number of attempts left:\", max_attempts - attempts)\n",
    "            else:\n",
    "                print(\"Maximum attempts reached, the program will now stop. Please start again.\")\n",
    "                return []\n",
    "\n",
    "    global students_names\n",
    "    students_names = []\n",
    "    for i in range(1, student_count + 1):\n",
    "        # for loop to take input of student's name\n",
    "        while True:  \n",
    "            suffix = \"th\"\n",
    "            if i % 10 == 1 and i % 100 != 11:\n",
    "                suffix = \"st\"\n",
    "            elif i % 10 == 2 and i % 100 != 12:\n",
    "                suffix = \"nd\"\n",
    "            elif i % 10 == 3 and i % 100 != 13:\n",
    "                suffix = \"rd\"\n",
    "\n",
    "            name = input(f\"Enter {i}{suffix} student name: \")\n",
    "\n",
    "            if name.isalpha() and len(name) > 0:  \n",
    "                students_names.append(name)\n",
    "                break\n",
    "            else:\n",
    "                print(\"The entered name is invalid. Kindly enter a valid name!\")\n",
    "\n",
    "    global students_grades \n",
    "    students_grades = []\n",
    "    for name in students_names:\n",
    "        #for loop which is used to take input of the student's grades\n",
    "        grades = []\n",
    "        print(\"Entering grades for:\", name)\n",
    "\n",
    "        for subject in [\"Math\", \"Science\", \"Language\", \"Drama\", \"Music\", \"Biology\"]:\n",
    "            while True:\n",
    "                marks = input(f\"Enter the marks for {subject}: \")\n",
    "                if marks.isnumeric():\n",
    "                    grades.append(int(marks))\n",
    "                    break\n",
    "                else:\n",
    "                    print(\"Invalid value entered. Please enter a valid number!\")\n",
    "\n",
    "        students_grades.append(grades)\n",
    "\n",
    "    return students_names, students_grades\n",
    "\n",
    "def gpa_calculation():\n",
    "    #function which is used to calculate GPA for all students based on grades entered and credit hours provided\n",
    "    global students_gpa \n",
    "    credit_hrs = [4, 5, 4, 3, 2, 4]  # Credit hours for each subject\n",
    "    students_gpa = []\n",
    "    for i in range(student_count):\n",
    "        total = sum(credit_hrs[j] * students_grades[i][j] for j in range(len(credit_hrs)))\n",
    "        gpa = total / sum(credit_hrs)\n",
    "        students_gpa.append(gpa)\n",
    "\n",
    "    print(\"Student GPAs\")\n",
    "    for k in range(len(students_names)):\n",
    "        print(students_names[k], \":\", students_gpa[k])\n",
    "student_names_and_grades()\n",
    "gpa_calculation()"
   ]
  },
  {
   "cell_type": "code",
   "execution_count": 7,
   "id": "1c56bb89-faa0-4898-8292-589e683a21be",
   "metadata": {},
   "outputs": [
    {
     "name": "stdout",
     "output_type": "stream",
     "text": [
      "List of Students and Assigned Schools\n",
      "vamika : Law School\n"
     ]
    }
   ],
   "source": [
    "def school_assignment():\n",
    "    # Function to assign students to different schools based on their GPA\n",
    "    global students_courses\n",
    "    students_courses = []\n",
    "    for i in range(student_count):\n",
    "        GPA = students_gpa[i]\n",
    "        if 90 <= GPA <= 100:\n",
    "            students_courses.append(\"School of Engineering\")\n",
    "        elif 80 <= GPA < 90:\n",
    "            students_courses.append(\"School of Business\")\n",
    "        elif 70 <= GPA < 80:\n",
    "            students_courses.append(\"Law School\")\n",
    "        else:\n",
    "            students_courses.append(\"Not Accepted\")\n",
    "\n",
    "    print(\"List of Students and Assigned Schools\")\n",
    "    for n in range(len(students_names)):  \n",
    "        print(students_names[n], \":\", students_courses[n])\n",
    "school_assignment()"
   ]
  },
  {
   "cell_type": "code",
   "execution_count": 9,
   "id": "eb744644-a16e-4a7f-b608-5122cd1eb45f",
   "metadata": {},
   "outputs": [
    {
     "name": "stdout",
     "output_type": "stream",
     "text": [
      "Report 1 generated: Student Name, School Name\n",
      "Report 2 generated: Distribution of Accepted Students\n",
      "Report 3 generated: Number of Students Not Accepted\n",
      "Report 4 generated: Students with GPA > 90\n"
     ]
    }
   ],
   "source": [
    "def generate_reports():\n",
    "    # Function to generate reports based on student assignments and caculated GPAs\n",
    "\n",
    "    # Report 1: Student Name, School Name\n",
    "    with open(\"report_1.txt\", \"w\") as report1:\n",
    "        report1.write(\"Report 1: Student Name and Assigned School\\n\")\n",
    "        report1.write(\"-\" * 40 + \"\\n\")\n",
    "        for i in range(len(students_names)):\n",
    "            report1.write(f\"{students_names[i]} : {students_courses[i]}\\n\")\n",
    "    print(\"Report 1 generated: Student Name, School Name\")\n",
    "\n",
    "    # Report 2: Number of accepted students and distribution per school\n",
    "    school_names = [\"School of Engineering\", \"School of Business\", \"Law School\"]\n",
    "    school_count = [students_courses.count(school) for school in school_names]\n",
    "    total_accepted = sum(school_count)\n",
    "\n",
    "    with open(\"report_2.txt\", \"w\") as report2:\n",
    "        report2.write(\"Report 2: Number of Accepted Students and Distribution per School\\n\")\n",
    "        report2.write(\"-\" * 40 + \"\\n\")\n",
    "        report2.write(f\"Total Accepted Students : {total_accepted}\\n\")\n",
    "        for i, school in enumerate(school_names):\n",
    "            report2.write(f\"{school} : {school_count[i]} students\\n\")\n",
    "    print(\"Report 2 generated: Distribution of Accepted Students\")\n",
    "\n",
    "    # Report 3: Number of students not accepted\n",
    "    not_accepted_count = students_courses.count(\"Not Accepted\")\n",
    "    with open(\"report_3.txt\", \"w\") as report3:\n",
    "        report3.write(\"Report 3: Number of Students Not Accepted\\n\")\n",
    "        report3.write(\"-\" * 40 + \"\\n\")\n",
    "        report3.write(f\"Total Students Not Accepted: {not_accepted_count}\\n\")\n",
    "    print(\"Report 3 generated: Number of Students Not Accepted\")\n",
    "\n",
    "    # Report 4: Students with GPAs greater than 90.0\n",
    "    with open(\"report_4.txt\", \"w\") as report4:\n",
    "        report4.write(\"Report 4: Students with GPA > 90.0\\n\")\n",
    "        report4.write(\"-\" * 40 + \"\\n\")\n",
    "        for i, gpa in enumerate(students_gpa):\n",
    "            if gpa > 90.0:\n",
    "                report4.write(f\"{students_names[i]} : GPA {gpa:.2f}\\n\")\n",
    "    print(\"Report 4 generated: Students with GPA > 90\")\n",
    "       \n",
    "            \n",
    "def main():\n",
    "    # Main function to execute the program and running different functions which are created\n",
    "    stud = student_names_and_grades() \n",
    "    if stud:\n",
    "        print(\"The students and their grades are as follows:\", stud)\n",
    "    else:\n",
    "        return None\n",
    "generate_reports()"
   ]
  },
  {
   "cell_type": "code",
   "execution_count": null,
   "id": "75224b99-f7fb-4776-9cbd-4bfcd6da09f5",
   "metadata": {},
   "outputs": [],
   "source": []
  }
 ],
 "metadata": {
  "kernelspec": {
   "display_name": "Python 3 (ipykernel)",
   "language": "python",
   "name": "python3"
  },
  "language_info": {
   "codemirror_mode": {
    "name": "ipython",
    "version": 3
   },
   "file_extension": ".py",
   "mimetype": "text/x-python",
   "name": "python",
   "nbconvert_exporter": "python",
   "pygments_lexer": "ipython3",
   "version": "3.12.7"
  }
 },
 "nbformat": 4,
 "nbformat_minor": 5
}
